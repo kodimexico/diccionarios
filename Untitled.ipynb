{
 "cells": [
  {
   "cell_type": "code",
   "execution_count": null,
   "metadata": {},
   "outputs": [],
   "source": [
    "# Importar librerias\n",
    "import numpy as np"
   ]
  },
  {
   "cell_type": "code",
   "execution_count": null,
   "metadata": {},
   "outputs": [],
   "source": [
    "# Dos listas, uno con categorias, otro con sus valores,\n",
    "# la meta es hacer un diccionario donde cada categoria tenga sus\n",
    "# valores correspondientes; rojo tiene tres instancias, azul tiene dos,\n",
    "# y amarillo tiene tres;\n",
    "nombres = np.array(['rojo', 'azul', 'amarillo', 'rojo', 'rojo', 'azul', 'amarillo', 'amarillo'])\n",
    "valores = np.array([123, 3234, 2323, 876, 435, 2341, 43562, 9898])"
   ]
  },
  {
   "cell_type": "code",
   "execution_count": null,
   "metadata": {},
   "outputs": [],
   "source": [
    "# Inicializar el diccionario\n",
    "categorias = dict()\n",
    "\n",
    "# Extraer uno por uno la categoria y el valor, aqui la funcion \"zip\" sirve\n",
    "# para combinar dos valores de dos vectores en uno, y estos a su vez se asignan\n",
    "# a 'x' y 'y'\n",
    "for x, y in zip(nombres, valores):\n",
    "\n",
    "    # Verificar: si la categoria (llave, key) existe, agregar el valor a su lista\n",
    "    if x in categorias:\n",
    "        categorias[x] += [y, ]\n",
    "\n",
    "    # Verificar: si la categoria (llave, key) no existe, crear la categoria y agregar\n",
    "    # el primer valor\n",
    "    else:\n",
    "        categorias[x] = [y, ]"
   ]
  },
  {
   "cell_type": "code",
   "execution_count": null,
   "metadata": {},
   "outputs": [],
   "source": [
    "# Imprimir el diccionario con sus categorias\n",
    "print(categorias)"
   ]
  },
  {
   "cell_type": "code",
   "execution_count": null,
   "metadata": {},
   "outputs": [],
   "source": []
  }
 ],
 "metadata": {
  "kernelspec": {
   "display_name": "Python 3",
   "language": "python",
   "name": "python3"
  }
 },
 "nbformat": 4,
 "nbformat_minor": 2
}
