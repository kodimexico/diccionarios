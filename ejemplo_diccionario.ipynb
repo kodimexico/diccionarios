import numpy as np
nombres = np.array(['rojo', 'azul', 'amarillo', 'rojo', 'rojo', 'azul', 'amarillo', 'amarillo'])
valores = np.array([123, 3234, 2323, 876, 435, 2341, 43562, 9898])

# Inicializar el diccionario
categorias = dict()

# Extraer uno por uno la categoria y el valor, aqui la funcion "zip" sirve
# para combinar dos valores de dos vectores en uno, y estos a su vez se asignan
# a 'x' y 'y'
for x, y in zip(nombres, valores):

    # Verificar: si la categoria (llave, key) existe, agregar el valor a su lista
    if x in categorias:
        categorias[x] += [y, ]

    # Verificar: si la categoria (llave, key) no existe, crear la categoria y agregar
    # el primer valor
    else:
        categorias[x] = [y, ]

# Imprimir el diccionario con sus categorias
print(categorias)
